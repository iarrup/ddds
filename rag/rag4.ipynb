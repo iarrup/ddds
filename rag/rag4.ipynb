{
 "cells": [
  {
   "cell_type": "code",
   "execution_count": 1,
   "id": "b8a1c18e-53a4-4ed5-a631-6126a3d550e0",
   "metadata": {},
   "outputs": [],
   "source": [
    "import nest_asyncio\n",
    "nest_asyncio.apply()"
   ]
  },
  {
   "cell_type": "code",
   "execution_count": 2,
   "id": "e676491f-a0b8-469b-bf15-872b86e32f3c",
   "metadata": {},
   "outputs": [],
   "source": [
    "import unstructured\n",
    "from unstructured.partition.pdf import partition_pdf\n",
    "import base64\n",
    "from tqdm import tqdm\n",
    "import ollama\n",
    "\n",
    "class Extractor:\n",
    "    def __init__(self, vision_model = 'llama3.2-vision',\n",
    "                llm_model = 'llama3.2:1b'):\n",
    "        self.vision_model = vision_model\n",
    "        self.llm_model = llm_model\n",
    "    \n",
    "\n",
    "    def parse_input_file(self, input_file):\n",
    "        chunks = partition_pdf(\n",
    "            filename= input_file, \n",
    "            infer_table_structure=True, \n",
    "            strategy= 'hi_res', \n",
    "            extract_image_block_types= ['Image'],\n",
    "            extract_image_block_to_payload=True,\n",
    "            chunking_strategy='by_title',\n",
    "            max_characters=10000,\n",
    "            combine_text_under_n_chars=2000,\n",
    "            new_after_n_chars=6000\n",
    "          )\n",
    "        return chunks\n",
    "\n",
    "    def classify_chunks(self, chunks):\n",
    "        texts, tables, images = [], [], []\n",
    "\n",
    "        for chunk in chunks:\n",
    "            if isinstance(chunk, unstructured.documents.elements.Table):\n",
    "                tables.append(chunk)\n",
    "            if isinstance(chunk, unstructured.documents.elements.CompositeElement):\n",
    "                texts.append(chunk)\n",
    "                chunk_elements = chunk.metadata.orig_elements\n",
    "        \n",
    "                for element in chunk_elements:\n",
    "                    if isinstance(element, unstructured.documents.elements.Image):\n",
    "                        images.append(element.metadata.image_base64)\n",
    "        return texts, tables, images\n",
    "\n",
    "    def write_images_to_disk(self, images, images_dir):\n",
    "        for idx, image in enumerate(images):\n",
    "            image_data = base64.b64decode(image)\n",
    "            file_path = f'image_{idx}.jpeg'\n",
    "\n",
    "            with open(file_path, 'wb') as f:\n",
    "                f.write(image_data)\n",
    "\n",
    "    def get_image_summary(self, file_path):\n",
    "        response = ollama.chat(\n",
    "            model = self.vision_model,\n",
    "            messages = [\n",
    "                {'role': 'user', 'content': 'Summarize the image', 'images': [file_path]}\n",
    "            ]\n",
    "        )\n",
    "        return response.message.content\n",
    "\n",
    "    def get_text_summary(self, text):\n",
    "        response = ollama.chat(\n",
    "            model = self.llm_model,\n",
    "            messages = [\n",
    "                {'role': 'user', 'content': f'summarize this text: {text}'}\n",
    "            ]\n",
    "        )\n",
    "        return response.message.content\n",
    "\n",
    "    def get_table_summary(self, table):\n",
    "        response = ollama.chat(\n",
    "            model = self.llm_model,\n",
    "            messages = [\n",
    "                {'role': 'user', 'content': f'summarize this table: {table}'}\n",
    "            ]\n",
    "        )\n",
    "        return response.message.content"
   ]
  },
  {
   "cell_type": "code",
   "execution_count": 3,
   "id": "df35fcc8-45e5-4d94-8366-1aa0def7cd10",
   "metadata": {},
   "outputs": [],
   "source": [
    "file_path = 'attention.pdf'\n",
    "image_path = '/images'\n",
    "\n",
    "extractor = Extractor()"
   ]
  },
  {
   "cell_type": "code",
   "execution_count": 4,
   "id": "7fc9203c-6335-472c-8aae-8e51ab5c0924",
   "metadata": {},
   "outputs": [],
   "source": [
    "chunks = extractor.parse_input_file(file_path)"
   ]
  },
  {
   "cell_type": "code",
   "execution_count": 5,
   "id": "1dd9a21e-e430-42d7-a99b-b83be7164502",
   "metadata": {},
   "outputs": [],
   "source": [
    "texts, tables, images = extractor.classify_chunks(chunks)"
   ]
  },
  {
   "cell_type": "code",
   "execution_count": 6,
   "id": "002e6c2f-5266-4241-9132-414aaf67c530",
   "metadata": {},
   "outputs": [],
   "source": [
    "texts, images = texts[:2], images[:2]"
   ]
  },
  {
   "cell_type": "code",
   "execution_count": 7,
   "id": "fa761d4e-273a-4407-b4e1-b51980b7cac6",
   "metadata": {},
   "outputs": [],
   "source": [
    "extractor.write_images_to_disk(images, image_path)"
   ]
  },
  {
   "cell_type": "code",
   "execution_count": 8,
   "id": "7c45b654-c581-41ac-bdb2-1179f55710f5",
   "metadata": {},
   "outputs": [
    {
     "name": "stderr",
     "output_type": "stream",
     "text": [
      "100%|███████████████████████████████████████████████████████████████████████████████| 2/2 [06:38<00:00, 199.17s/it]\n"
     ]
    }
   ],
   "source": [
    "image_summaries = [extractor.get_image_summary(f\"image_{i}.jpeg\") for i in tqdm(range(len(images)))]"
   ]
  },
  {
   "cell_type": "code",
   "execution_count": 9,
   "id": "8bea73b5-1fa7-4181-96f1-0036750e5804",
   "metadata": {},
   "outputs": [
    {
     "name": "stderr",
     "output_type": "stream",
     "text": [
      "  0%|                                                                                        | 0/2 [00:02<?, ?it/s]\n"
     ]
    }
   ],
   "source": [
    "text_summaries = [extractor.get_text_summary(text[i].text for i in tqdm(range(len(texts))))]"
   ]
  },
  {
   "cell_type": "code",
   "execution_count": null,
   "id": "169d6bd7-5329-4b98-b2b5-331f239b8f85",
   "metadata": {},
   "outputs": [],
   "source": [
    "table_summaries = [extractor.get_table_summary(tables[i].metadata.text_as_html)\n",
    "                    for i in tqdm(range(len(tables)))]"
   ]
  },
  {
   "cell_type": "code",
   "execution_count": null,
   "id": "67d77af1-ad25-4b81-9181-cbd6ba0ee94c",
   "metadata": {},
   "outputs": [],
   "source": []
  }
 ],
 "metadata": {
  "kernelspec": {
   "display_name": "Python 3 (ipykernel)",
   "language": "python",
   "name": "python3"
  },
  "language_info": {
   "codemirror_mode": {
    "name": "ipython",
    "version": 3
   },
   "file_extension": ".py",
   "mimetype": "text/x-python",
   "name": "python",
   "nbconvert_exporter": "python",
   "pygments_lexer": "ipython3",
   "version": "3.11.11"
  }
 },
 "nbformat": 4,
 "nbformat_minor": 5
}
