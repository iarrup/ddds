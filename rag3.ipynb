{
 "cells": [
  {
   "cell_type": "markdown",
   "id": "01c24b70-2d8b-4655-8a5a-1a46f2f95c0c",
   "metadata": {},
   "source": [
    "## load data"
   ]
  },
  {
   "cell_type": "code",
   "execution_count": 1,
   "id": "5db0bfb5-065f-4cf8-9d7e-8ff9f71e1fb8",
   "metadata": {},
   "outputs": [],
   "source": [
    "from datasets import load_dataset\n",
    "dataset = load_dataset('squad')"
   ]
  },
  {
   "cell_type": "code",
   "execution_count": 2,
   "id": "3f470768-07dd-40c5-98d6-b239b6c437d2",
   "metadata": {},
   "outputs": [],
   "source": [
    "contexts = [item['context'] for item in dataset['train']]\n",
    "u_contexts = list(set(contexts))\n",
    "truncated_contexts = u_contexts[:12800]"
   ]
  },
  {
   "cell_type": "code",
   "execution_count": 3,
   "id": "35acf48d-ec3c-4e0e-8567-36acf6c7d2c1",
   "metadata": {},
   "outputs": [],
   "source": [
    "# utility functions\n",
    "def chunky_iterate(data, chunk_size):\n",
    "    for i in range(0, len(data), chunk_size):\n",
    "        yield data[i: i + chunk_size]\n"
   ]
  },
  {
   "cell_type": "markdown",
   "id": "f2563726-a1e7-4b7a-93b1-d8d01d08f792",
   "metadata": {},
   "source": [
    "## embeddings"
   ]
  },
  {
   "cell_type": "code",
   "execution_count": 4,
   "id": "a0d6437d-77b1-4601-8f85-eac5edf299c2",
   "metadata": {},
   "outputs": [],
   "source": [
    "from llama_index.embeddings.huggingface import HuggingFaceEmbedding\n",
    "\n",
    "\n",
    "\"\"\"\n",
    "    optimizations:\n",
    "        * use a cache folder to cache the model\n",
    "        * generate embeddings in a batch at a time.\n",
    "\"\"\"\n",
    "class Embedder:\n",
    "    def __init__(self, model_name = 'nomic-ai/nomic-embed-text-v1.5',\n",
    "                batch_size = 32):\n",
    "        self.batch_size = batch_size\n",
    "        self.model_name = model_name\n",
    "        self.embed_model = self._load_embed_model()\n",
    "\n",
    "    def _load_embed_model(self):\n",
    "        return HuggingFaceEmbedding(model_name= self.model_name,\n",
    "            trust_remote_code= True, cache_folder= './hf_cache')\n",
    "\n",
    "    \n",
    "    def generate_batch_embeddings(self, context_batch):\n",
    "        return self.embed_model.get_text_embedding_batch(context_batch)\n",
    "    \n",
    "\n",
    "    def generate_embeddings(self, contexts):\n",
    "        embeddings = []\n",
    "        for batch_context in chunky_iterate(contexts, self.batch_size):\n",
    "            embeddings.extend(self.generate_batch_embeddings(batch_context))\n",
    "        return embeddings\n",
    "\n",
    "    def generate_query_embeddings(self, query):\n",
    "        return self.embed_model.get_query_embedding(query)"
   ]
  },
  {
   "cell_type": "code",
   "execution_count": 5,
   "id": "108cf81f-35ac-47ca-add2-e8fe1902d89e",
   "metadata": {},
   "outputs": [
    {
     "data": {
      "application/vnd.jupyter.widget-view+json": {
       "model_id": "83f767c774b34fe3b5d74f349e987b03",
       "version_major": 2,
       "version_minor": 0
      },
      "text/plain": [
       "modules.json:   0%|          | 0.00/255 [00:00<?, ?B/s]"
      ]
     },
     "metadata": {},
     "output_type": "display_data"
    },
    {
     "data": {
      "application/vnd.jupyter.widget-view+json": {
       "model_id": "da9cd46a641e4416b231b2e2f7d1713b",
       "version_major": 2,
       "version_minor": 0
      },
      "text/plain": [
       "config_sentence_transformers.json:   0%|          | 0.00/140 [00:00<?, ?B/s]"
      ]
     },
     "metadata": {},
     "output_type": "display_data"
    },
    {
     "data": {
      "application/vnd.jupyter.widget-view+json": {
       "model_id": "cf9b1f6ef7384662905e9b5a2a80feb4",
       "version_major": 2,
       "version_minor": 0
      },
      "text/plain": [
       "README.md:   0%|          | 0.00/71.6k [00:00<?, ?B/s]"
      ]
     },
     "metadata": {},
     "output_type": "display_data"
    },
    {
     "data": {
      "application/vnd.jupyter.widget-view+json": {
       "model_id": "5f10747dfa584981a3fdc7de5e14db1f",
       "version_major": 2,
       "version_minor": 0
      },
      "text/plain": [
       "sentence_bert_config.json:   0%|          | 0.00/120 [00:00<?, ?B/s]"
      ]
     },
     "metadata": {},
     "output_type": "display_data"
    },
    {
     "data": {
      "application/vnd.jupyter.widget-view+json": {
       "model_id": "de7c31662c374321b2f6f474eec69891",
       "version_major": 2,
       "version_minor": 0
      },
      "text/plain": [
       "config.json:   0%|          | 0.00/2.06k [00:00<?, ?B/s]"
      ]
     },
     "metadata": {},
     "output_type": "display_data"
    },
    {
     "data": {
      "application/vnd.jupyter.widget-view+json": {
       "model_id": "96daa451bc8748728ed816425757af4c",
       "version_major": 2,
       "version_minor": 0
      },
      "text/plain": [
       "configuration_hf_nomic_bert.py:   0%|          | 0.00/1.96k [00:00<?, ?B/s]"
      ]
     },
     "metadata": {},
     "output_type": "display_data"
    },
    {
     "name": "stderr",
     "output_type": "stream",
     "text": [
      "A new version of the following files was downloaded from https://huggingface.co/nomic-ai/nomic-bert-2048:\n",
      "- configuration_hf_nomic_bert.py\n",
      ". Make sure to double-check they do not contain any added malicious code. To avoid downloading new versions of the code file, you can pin a revision.\n"
     ]
    },
    {
     "data": {
      "application/vnd.jupyter.widget-view+json": {
       "model_id": "170c9e71c702422bb1c375092eddbcf6",
       "version_major": 2,
       "version_minor": 0
      },
      "text/plain": [
       "modeling_hf_nomic_bert.py:   0%|          | 0.00/95.4k [00:00<?, ?B/s]"
      ]
     },
     "metadata": {},
     "output_type": "display_data"
    },
    {
     "name": "stderr",
     "output_type": "stream",
     "text": [
      "A new version of the following files was downloaded from https://huggingface.co/nomic-ai/nomic-bert-2048:\n",
      "- modeling_hf_nomic_bert.py\n",
      ". Make sure to double-check they do not contain any added malicious code. To avoid downloading new versions of the code file, you can pin a revision.\n",
      "<All keys matched successfully>\n"
     ]
    },
    {
     "data": {
      "application/vnd.jupyter.widget-view+json": {
       "model_id": "7226b238e04643a596c70e5865e8a0d5",
       "version_major": 2,
       "version_minor": 0
      },
      "text/plain": [
       "tokenizer_config.json:   0%|          | 0.00/1.19k [00:00<?, ?B/s]"
      ]
     },
     "metadata": {},
     "output_type": "display_data"
    },
    {
     "data": {
      "application/vnd.jupyter.widget-view+json": {
       "model_id": "8a6ee4409f1a4340836a77088a49d47b",
       "version_major": 2,
       "version_minor": 0
      },
      "text/plain": [
       "vocab.txt:   0%|          | 0.00/232k [00:00<?, ?B/s]"
      ]
     },
     "metadata": {},
     "output_type": "display_data"
    },
    {
     "data": {
      "application/vnd.jupyter.widget-view+json": {
       "model_id": "26d5b5fadc484b528f6ffd3fd2f35217",
       "version_major": 2,
       "version_minor": 0
      },
      "text/plain": [
       "tokenizer.json:   0%|          | 0.00/711k [00:00<?, ?B/s]"
      ]
     },
     "metadata": {},
     "output_type": "display_data"
    },
    {
     "data": {
      "application/vnd.jupyter.widget-view+json": {
       "model_id": "9f3abb371a544b9d8a7043c52e05ffff",
       "version_major": 2,
       "version_minor": 0
      },
      "text/plain": [
       "special_tokens_map.json:   0%|          | 0.00/695 [00:00<?, ?B/s]"
      ]
     },
     "metadata": {},
     "output_type": "display_data"
    },
    {
     "data": {
      "application/vnd.jupyter.widget-view+json": {
       "model_id": "0d29f764c3b648129c846cbc6e6443e9",
       "version_major": 2,
       "version_minor": 0
      },
      "text/plain": [
       "1_Pooling/config.json:   0%|          | 0.00/286 [00:00<?, ?B/s]"
      ]
     },
     "metadata": {},
     "output_type": "display_data"
    }
   ],
   "source": [
    "embedder = Embedder()\n",
    "embeddings = embedder.generate_embeddings(truncated_contexts)"
   ]
  },
  {
   "cell_type": "markdown",
   "id": "9b02c2bf-a4b3-4a12-bfe0-757410460614",
   "metadata": {},
   "source": [
    "## vector db"
   ]
  },
  {
   "cell_type": "code",
   "execution_count": 6,
   "id": "00a161c6-a4a5-4b1a-b46f-f7f5f8e91412",
   "metadata": {},
   "outputs": [],
   "source": [
    "from qdrant_client import QdrantClient, models\n",
    "\"\"\"\n",
    "    Optimizations:\n",
    "        * use grpc\n",
    "        * collection on disk for larger dataset\n",
    "        * upload collection batches upload automatically.\n",
    "        * set indexing to false / 0 when uploading large data for the first time\n",
    "        \n",
    "\"\"\"\n",
    "class QdrantVectorDB:\n",
    "    def __init__(self, collection_name = \"contexts_collection\",\n",
    "                 vector_dim = 768, batch_size = 512,\n",
    "                 host = 'localhost', port = 6333):\n",
    "        \n",
    "        self.batch_size = batch_size\n",
    "        self.collection_name = collection_name\n",
    "        self.client = self._setup_client(host, port)\n",
    "        self._setup_collection(vector_dim)\n",
    "\n",
    "    def _setup_client(self, host, port):\n",
    "        return QdrantClient(host= host, port= port, prefer_grpc=True) \n",
    "\n",
    "    def _setup_collection(self, vector_dim):\n",
    "        if not self.client.collection_exists(collection_name= self.collection_name):\n",
    "            self.client.create_collection(\n",
    "                collection_name= self.collection_name,\n",
    "                vectors_config= models.VectorParams(size = vector_dim,\n",
    "                    distance = models.Distance.DOT, on_disk=True\n",
    "                ),\n",
    "                optimizers_config=models.OptimizersConfigDiff(\n",
    "                    default_segment_number = 5, indexing_threshold=0)\n",
    "            )\n",
    "    def ingest_data(self, embeddings, contexts):\n",
    "             \n",
    "        self.client.upload_collection(collection_name= self.collection_name,\n",
    "            vectors= embeddings, batch_size= self.batch_size,\n",
    "            payload=[{\"context\": context} for context in contexts]\n",
    "        )\n",
    "        \n",
    "        self.client.update_collection(collection_name=self.collection_name,\n",
    "            optimizers_config=models.OptimizersConfigDiff(indexing_threshold=20000))\n",
    "            \n",
    "    def query_collection(self, query_embeddings):\n",
    "        result = self.client.query_points(\n",
    "            collection_name = self.collection_name,\n",
    "            query= query_embeddings,\n",
    "            search_params = models.SearchParams(\n",
    "                    quantization = models.QuantizationSearchParams(\n",
    "                        ignore = True,\n",
    "                        rescore = True,\n",
    "                        oversampling = 2.0\n",
    "                    )\n",
    "            ),\n",
    "            timeout = 1000\n",
    "        )\n",
    "        return result\n",
    "        "
   ]
  },
  {
   "cell_type": "code",
   "execution_count": 7,
   "id": "21a0b492-ede8-4b46-a3b0-c1b2156406e6",
   "metadata": {},
   "outputs": [],
   "source": [
    "vectordb = QdrantVectorDB()\n",
    "vectordb.ingest_data(embeddings, truncated_contexts)"
   ]
  },
  {
   "cell_type": "markdown",
   "id": "08fb9d15-6067-4473-b435-edd5352c88cd",
   "metadata": {},
   "source": [
    "## retriever"
   ]
  },
  {
   "cell_type": "code",
   "execution_count": 8,
   "id": "38c57d53-a228-4ee7-8438-7f1d07334a01",
   "metadata": {},
   "outputs": [],
   "source": [
    "import time\n",
    "\n",
    "class Retriever:\n",
    "    def __init__(self, vectordb, embedder):\n",
    "        self.vectordb = vectordb\n",
    "        self.embedder = embedder\n",
    "\n",
    "    def search(self, query):\n",
    "        query_embeddings = self.embedder.generate_query_embeddings(query)\n",
    "        start_time = time.time()\n",
    "\n",
    "        result = self.vectordb.query_collection(query_embeddings)\n",
    "        end_time = time.time()\n",
    "        elapsed_time = end_time - start_time\n",
    "        print(f'Execution of the query took : {elapsed_time} seconds')\n",
    "        return result\n",
    "\n",
    "        "
   ]
  },
  {
   "cell_type": "code",
   "execution_count": 9,
   "id": "9fce9d79-a62c-43e5-af0d-86c4c699f7be",
   "metadata": {},
   "outputs": [
    {
     "name": "stdout",
     "output_type": "stream",
     "text": [
      "Execution of the query took : 0.005831241607666016 seconds\n"
     ]
    }
   ],
   "source": [
    "retriever = Retriever(vectordb=vectordb, embedder=embedder)\n",
    "result = retriever.search(\"What is warsaw famous for?\")"
   ]
  },
  {
   "cell_type": "code",
   "execution_count": 20,
   "id": "552c4953-60bb-4dab-8d5c-27abdc125be6",
   "metadata": {},
   "outputs": [
    {
     "data": {
      "text/plain": [
       "[ScoredPoint(id='1991c122-4bbb-400f-bd93-016416da756d', version=62, score=0.6409937739372253, payload={'context': \"Chopin's music remains very popular and is regularly performed, recorded and broadcast worldwide. The world's oldest monographic music competition, the International Chopin Piano Competition, founded in 1927, is held every five years in Warsaw. The Fryderyk Chopin Institute of Poland lists on its website over eighty societies world-wide devoted to the composer and his music. The Institute site also lists nearly 1,500 performances of Chopin works on YouTube as of January 2014.\"}, vector=None, shard_key=None, order_value=None),\n",
       " ScoredPoint(id='a7053592-0076-4e05-a0d5-529a31abe4ab', version=37, score=0.6409937739372253, payload={'context': \"Chopin's music remains very popular and is regularly performed, recorded and broadcast worldwide. The world's oldest monographic music competition, the International Chopin Piano Competition, founded in 1927, is held every five years in Warsaw. The Fryderyk Chopin Institute of Poland lists on its website over eighty societies world-wide devoted to the composer and his music. The Institute site also lists nearly 1,500 performances of Chopin works on YouTube as of January 2014.\"}, vector=None, shard_key=None, order_value=None),\n",
       " ScoredPoint(id='b749bac9-15f6-4c51-b40e-6eb87ed61ce1', version=12, score=0.6409937739372253, payload={'context': \"Chopin's music remains very popular and is regularly performed, recorded and broadcast worldwide. The world's oldest monographic music competition, the International Chopin Piano Competition, founded in 1927, is held every five years in Warsaw. The Fryderyk Chopin Institute of Poland lists on its website over eighty societies world-wide devoted to the composer and his music. The Institute site also lists nearly 1,500 performances of Chopin works on YouTube as of January 2014.\"}, vector=None, shard_key=None, order_value=None),\n",
       " ScoredPoint(id='3956b509-4c4b-4ca8-a907-bcbcb5f8005d', version=6, score=0.6214599013328552, payload={'context': 'Known as the world\\'s automotive center, \"Detroit\" is a metonym for that industry. Detroit\\'s auto industry, some of which was converted to wartime defense production, was an important element of the American \"Arsenal of Democracy\" supporting the Allied powers during World War II. It is an important source of popular music legacies celebrated by the city\\'s two familiar nicknames, the Motor City and Motown. Other nicknames arose in the 20th century, including City of Champions, beginning in the 1930s for its successes in individual and team sport; The D; Hockeytown (a trademark owned by the city\\'s NHL club, the Red Wings); Rock City (after the Kiss song \"Detroit Rock City\"); and The 313 (its telephone area code).'}, vector=None, shard_key=None, order_value=None),\n",
       " ScoredPoint(id='a607594b-9b98-4db7-a779-aa578f1171ea', version=31, score=0.6214599013328552, payload={'context': 'Known as the world\\'s automotive center, \"Detroit\" is a metonym for that industry. Detroit\\'s auto industry, some of which was converted to wartime defense production, was an important element of the American \"Arsenal of Democracy\" supporting the Allied powers during World War II. It is an important source of popular music legacies celebrated by the city\\'s two familiar nicknames, the Motor City and Motown. Other nicknames arose in the 20th century, including City of Champions, beginning in the 1930s for its successes in individual and team sport; The D; Hockeytown (a trademark owned by the city\\'s NHL club, the Red Wings); Rock City (after the Kiss song \"Detroit Rock City\"); and The 313 (its telephone area code).'}, vector=None, shard_key=None, order_value=None)]"
      ]
     },
     "execution_count": 20,
     "metadata": {},
     "output_type": "execute_result"
    }
   ],
   "source": [
    "result.points[0:5]"
   ]
  },
  {
   "cell_type": "code",
   "execution_count": null,
   "id": "8238290c-f318-4fe5-9b23-8c15f9de76a1",
   "metadata": {},
   "outputs": [],
   "source": []
  }
 ],
 "metadata": {
  "kernelspec": {
   "display_name": "Python 3 (ipykernel)",
   "language": "python",
   "name": "python3"
  },
  "language_info": {
   "codemirror_mode": {
    "name": "ipython",
    "version": 3
   },
   "file_extension": ".py",
   "mimetype": "text/x-python",
   "name": "python",
   "nbconvert_exporter": "python",
   "pygments_lexer": "ipython3",
   "version": "3.11.11"
  }
 },
 "nbformat": 4,
 "nbformat_minor": 5
}
